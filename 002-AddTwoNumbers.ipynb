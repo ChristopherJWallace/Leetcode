{
 "cells": [
  {
   "cell_type": "code",
   "execution_count": 96,
   "metadata": {},
   "outputs": [],
   "source": [
    "from typing import *\n",
    "\n",
    "class ListNode:\n",
    "    def __init__(self, val=0, next=None):\n",
    "        self.val = val\n",
    "        self.next = next\n",
    "\n",
    "def create_linked_list(numbers:List) -> Optional[ListNode]:\n",
    "    dummy = ListNode()\n",
    "    current = dummy\n",
    "    for num in numbers:\n",
    "        current.next = ListNode(num)\n",
    "        current = current.next\n",
    "    return dummy.next \n",
    "\n",
    "def linked_list_to_list(node) -> Optional[ListNode]:\n",
    "    result = []\n",
    "    while node:\n",
    "        result.append(node.val)\n",
    "        node = node.next\n",
    "    return result\n",
    "\n",
    "class Solution:\n",
    "    def convertListNode2int(self, l: Optional[ListNode]) -> int:\n",
    "        lst=[]\n",
    "        while (l):\n",
    "            lst.append(str(l.val))\n",
    "            l=l.next\n",
    "        return int(''.join(lst))\n",
    "\n",
    "    def addTwoNumbers(self, l1: Optional[ListNode], l2: Optional[ListNode]) -> Optional[ListNode]:\n",
    "        num1 = Solution().convertListNode2int(l1)\n",
    "        num2 = Solution().convertListNode2int(l2)\n",
    "        while len(str(num1)) > len(str(num2)):\n",
    "            num2*=10\n",
    "        while len(str(num2)) > len(str(num1)):\n",
    "            num1*=10\n",
    "        summation = num1 + num2\n",
    "        summationAsLst = [int(i) for i in str(summation)][::-1]\n",
    "        return create_linked_list(summationAsLst)\n",
    "\n",
    "            "
   ]
  },
  {
   "cell_type": "code",
   "execution_count": 97,
   "metadata": {},
   "outputs": [],
   "source": [
    "l1 =  create_linked_list([2,4,3])\n",
    "l2 =  create_linked_list([5,6,4])\n"
   ]
  },
  {
   "cell_type": "code",
   "execution_count": 98,
   "metadata": {},
   "outputs": [
    {
     "data": {
      "text/plain": [
       "<__main__.ListNode at 0x1ffcbc4bfa0>"
      ]
     },
     "execution_count": 98,
     "metadata": {},
     "output_type": "execute_result"
    }
   ],
   "source": [
    "Solution().addTwoNumbers(l1,l2)"
   ]
  },
  {
   "cell_type": "code",
   "execution_count": null,
   "metadata": {},
   "outputs": [],
   "source": []
  }
 ],
 "metadata": {
  "kernelspec": {
   "display_name": "Python 3",
   "language": "python",
   "name": "python3"
  },
  "language_info": {
   "codemirror_mode": {
    "name": "ipython",
    "version": 3
   },
   "file_extension": ".py",
   "mimetype": "text/x-python",
   "name": "python",
   "nbconvert_exporter": "python",
   "pygments_lexer": "ipython3",
   "version": "3.10.2"
  }
 },
 "nbformat": 4,
 "nbformat_minor": 2
}

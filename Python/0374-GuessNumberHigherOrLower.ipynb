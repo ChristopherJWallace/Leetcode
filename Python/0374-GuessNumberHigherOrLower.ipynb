{
 "cells": [
  {
   "cell_type": "code",
   "execution_count": 11,
   "metadata": {},
   "outputs": [],
   "source": [
    "import random\n",
    "\n",
    "num = 10\n",
    "theGuess = random.randint(1, num)\n",
    "\n",
    "def guess(n):\n",
    "    if n > theGuess:\n",
    "        return -1\n",
    "    elif n < theGuess:\n",
    "        return 1\n",
    "    else:\n",
    "        return 0"
   ]
  },
  {
   "cell_type": "code",
   "execution_count": 12,
   "metadata": {},
   "outputs": [],
   "source": [
    "from typing import *\n",
    "\n",
    "class Solution:\n",
    "    def guessNumber(self, n: int) -> int:\n",
    "        l = 1\n",
    "        r = n\n",
    "        while True:\n",
    "          myGuess = (l+r)//2\n",
    "          correctness = guess(myGuess)\n",
    "          if correctness == -1:\n",
    "            r = myGuess-1\n",
    "          elif correctness == 1:\n",
    "            l = myGuess+1\n",
    "          else:\n",
    "            return myGuess"
   ]
  },
  {
   "cell_type": "markdown",
   "metadata": {},
   "source": [
    "Runtime Beats 5% / Memory beats 5%\n",
    "- Unsure of a faster method than Binary search."
   ]
  },
  {
   "cell_type": "code",
   "execution_count": 13,
   "metadata": {},
   "outputs": [
    {
     "data": {
      "text/plain": [
       "8"
      ]
     },
     "execution_count": 13,
     "metadata": {},
     "output_type": "execute_result"
    }
   ],
   "source": [
    "Solution().guessNumber(10)"
   ]
  },
  {
   "cell_type": "code",
   "execution_count": null,
   "metadata": {},
   "outputs": [],
   "source": []
  }
 ],
 "metadata": {
  "kernelspec": {
   "display_name": "Python 3",
   "language": "python",
   "name": "python3"
  },
  "language_info": {
   "codemirror_mode": {
    "name": "ipython",
    "version": 3
   },
   "file_extension": ".py",
   "mimetype": "text/x-python",
   "name": "python",
   "nbconvert_exporter": "python",
   "pygments_lexer": "ipython3",
   "version": "3.10.2"
  }
 },
 "nbformat": 4,
 "nbformat_minor": 2
}

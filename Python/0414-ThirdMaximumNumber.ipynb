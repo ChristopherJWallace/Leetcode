{
 "cells": [
  {
   "cell_type": "code",
   "execution_count": null,
   "metadata": {},
   "outputs": [],
   "source": [
    "from typing import *\n",
    "\n",
    "class Solution:\n",
    "    def thirdMax(self, nums: List[int]) -> int:\n",
    "        nums = set(nums)\n",
    "        nums = sorted(list(nums))\n",
    "        length1 = len(nums)\n",
    "\n",
    "        if length1 < 3: return nums[-1]\n",
    "        else: return nums[-3]"
   ]
  },
  {
   "cell_type": "markdown",
   "metadata": {},
   "source": [
    "Runtime Beats 100% / Memory beats 20%"
   ]
  }
 ],
 "metadata": {
  "kernelspec": {
   "display_name": "Python 3",
   "language": "python",
   "name": "python3"
  },
  "language_info": {
   "name": "python",
   "version": "3.10.2"
  }
 },
 "nbformat": 4,
 "nbformat_minor": 2
}

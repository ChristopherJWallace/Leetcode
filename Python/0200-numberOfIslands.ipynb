{
 "cells": [
  {
   "cell_type": "code",
   "execution_count": 2,
   "metadata": {},
   "outputs": [],
   "source": [
    "from typing import *\n",
    "\n",
    "class Solution:\n",
    "    def numIslands(self, grid):\n",
    "      if not grid: return 0\n",
    "\n",
    "      Island_Count = 0\n",
    "      LengthI = len(grid)\n",
    "      LengthJ = len(grid[0])\n",
    "\n",
    "      for i in range(LengthI):\n",
    "        for j in range(LengthJ):\n",
    "          if grid[i][j] == '1':\n",
    "            self.SearchForLand(grid, i, j, LengthI, LengthJ)\n",
    "            Island_Count+=1\n",
    "\n",
    "      return Island_Count\n",
    "\n",
    "    def SearchForLand(self, grid, i, j, LengthI, LengthJ):\n",
    "      if i<0 or i>=LengthI or j<0 or j>=LengthJ or grid[i][j] != '1': return\n",
    "      grid[i][j] = '0'\n",
    "      self.SearchForLand(grid, i-1, j, LengthI, LengthJ)\n",
    "      self.SearchForLand(grid, i+1, j, LengthI, LengthJ)\n",
    "      self.SearchForLand(grid, i, j-1, LengthI, LengthJ)\n",
    "      self.SearchForLand(grid, i, j+1, LengthI, LengthJ)\n",
    "      "
   ]
  },
  {
   "cell_type": "markdown",
   "metadata": {},
   "source": [
    "Runtime Beats 20% / Memory beats 95%"
   ]
  },
  {
   "cell_type": "code",
   "execution_count": 3,
   "metadata": {},
   "outputs": [
    {
     "data": {
      "text/plain": [
       "3"
      ]
     },
     "execution_count": 3,
     "metadata": {},
     "output_type": "execute_result"
    }
   ],
   "source": [
    "grid = [\n",
    "  [\"1\",\"1\",\"0\",\"0\",\"0\"],\n",
    "  [\"1\",\"1\",\"0\",\"0\",\"0\"],\n",
    "  [\"0\",\"0\",\"1\",\"0\",\"0\"],\n",
    "  [\"0\",\"0\",\"0\",\"1\",\"1\"]\n",
    "]\n",
    "Solution().numIslands(grid)"
   ]
  },
  {
   "cell_type": "code",
   "execution_count": 4,
   "metadata": {},
   "outputs": [
    {
     "data": {
      "text/plain": [
       "1"
      ]
     },
     "execution_count": 4,
     "metadata": {},
     "output_type": "execute_result"
    }
   ],
   "source": [
    "grid = [\n",
    "  [\"1\",\"1\",\"1\",\"1\",\"0\"],\n",
    "  [\"1\",\"1\",\"0\",\"1\",\"0\"],\n",
    "  [\"1\",\"1\",\"0\",\"0\",\"0\"],\n",
    "  [\"0\",\"0\",\"0\",\"0\",\"0\"]\n",
    "]\n",
    "Solution().numIslands(grid)"
   ]
  }
 ],
 "metadata": {
  "kernelspec": {
   "display_name": "Python 3",
   "language": "python",
   "name": "python3"
  },
  "language_info": {
   "codemirror_mode": {
    "name": "ipython",
    "version": 3
   },
   "file_extension": ".py",
   "mimetype": "text/x-python",
   "name": "python",
   "nbconvert_exporter": "python",
   "pygments_lexer": "ipython3",
   "version": "3.10.2"
  }
 },
 "nbformat": 4,
 "nbformat_minor": 2
}

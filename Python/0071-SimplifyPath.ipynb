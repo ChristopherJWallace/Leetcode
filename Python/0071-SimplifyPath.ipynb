{
 "cells": [
  {
   "cell_type": "code",
   "execution_count": null,
   "metadata": {},
   "outputs": [],
   "source": [
    "from typing import *\n",
    "\n",
    "class Solution:\n",
    "    def simplifyPath(self, path: str) -> str:\n",
    "        stack = []\n",
    "        path = path.split('/')\n",
    "        path = [i for i in path if i != '']\n",
    "        for folder in path:\n",
    "            if folder == '.':\n",
    "                continue\n",
    "            elif folder == '..':\n",
    "                if not stack: continue\n",
    "                stack.pop(-1)\n",
    "                stack.pop(-1)\n",
    "                continue\n",
    "            stack.append('/')\n",
    "            stack.append(folder)\n",
    "\n",
    "        return ''.join(stack) if stack else \"/\""
   ]
  },
  {
   "cell_type": "markdown",
   "metadata": {},
   "source": [
    "Runtime Beats 45% / Memory beats 15%"
   ]
  }
 ],
 "metadata": {
  "kernelspec": {
   "display_name": "Python 3",
   "language": "python",
   "name": "python3"
  },
  "language_info": {
   "name": "python",
   "version": "3.10.2"
  }
 },
 "nbformat": 4,
 "nbformat_minor": 2
}

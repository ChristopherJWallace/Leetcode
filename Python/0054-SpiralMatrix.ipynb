{
 "cells": [
  {
   "cell_type": "code",
   "execution_count": null,
   "metadata": {},
   "outputs": [],
   "source": [
    "from typing import *\n",
    "\n",
    "class Solution:\n",
    "    def spiralOrder(self, matrix: List[List[int]]) -> List[int]:\n",
    "        directionX = 1 # left = -1 , right = 1\n",
    "        directionY = 1 # up = -1 , down = 1\n",
    "        X = 0\n",
    "        Y = 0\n",
    "        Turn = 0 # X=0 , Y=1\n",
    "        lengthY=len(matrix)\n",
    "        lengthX=len(matrix[0])\n",
    "\n",
    "        seenBefore = {}\n",
    "        output =[]\n",
    "\n",
    "        while len(output) < lengthX*lengthY:\n",
    "            # to switch direction change turn to X or Y and flip directions.\n",
    "            if X < 0 or X == lengthX or (Turn == 0 and seenBefore.get(str(Y)+','+str(X), 'unseen') != 'unseen'):\n",
    "                X-=directionX\n",
    "                directionX*=-1\n",
    "                Turn = 1\n",
    "                Y += directionY\n",
    "                continue\n",
    "            if Y < 0 or Y == lengthY or (Turn == 1 and seenBefore.get(str(Y)+','+str(X), 'unseen') != 'unseen'):\n",
    "                Y-=directionY\n",
    "                directionY*=-1\n",
    "                Turn = 0\n",
    "                X += directionX\n",
    "                continue\n",
    "\n",
    "            # Increment\n",
    "            output.append(matrix[Y][X])\n",
    "            seenBefore[str(Y)+','+str(X)] = 'seen'\n",
    "            if Turn == 0:\n",
    "                X+=directionX\n",
    "            else:\n",
    "                Y+=directionY\n",
    "        return output"
   ]
  },
  {
   "cell_type": "markdown",
   "metadata": {},
   "source": [
    "Runtime Beats 100% / Memory beats 5%"
   ]
  },
  {
   "cell_type": "markdown",
   "metadata": {},
   "source": []
  }
 ],
 "metadata": {
  "kernelspec": {
   "display_name": "Python 3",
   "language": "python",
   "name": "python3"
  },
  "language_info": {
   "name": "python",
   "version": "3.10.2"
  }
 },
 "nbformat": 4,
 "nbformat_minor": 2
}

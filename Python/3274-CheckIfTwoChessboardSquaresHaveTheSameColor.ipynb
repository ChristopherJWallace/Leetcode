{
 "cells": [
  {
   "cell_type": "code",
   "execution_count": null,
   "metadata": {},
   "outputs": [],
   "source": [
    "from typing import *\n",
    "\n",
    "class Solution:\n",
    "    def checkTwoChessboards(self, coordinate1: str, coordinate2: str) -> bool:\n",
    "        chessboard = [[0,1,0,1,0,1,0,1],[1,0,1,0,1,0,1,0]]*4\n",
    "        color1 = chessboard[ord(coordinate1[0])-97][int(coordinate1[1])-1]\n",
    "        color2 = chessboard[ord(coordinate2[0])-97][int(coordinate2[1])-1]\n",
    "        return color1 == color2"
   ]
  },
  {
   "cell_type": "markdown",
   "metadata": {},
   "source": [
    "Runtime Beats 25% / Memory beats 40%"
   ]
  }
 ],
 "metadata": {
  "kernelspec": {
   "display_name": "Python 3",
   "language": "python",
   "name": "python3"
  },
  "language_info": {
   "name": "python",
   "version": "3.10.2"
  }
 },
 "nbformat": 4,
 "nbformat_minor": 2
}

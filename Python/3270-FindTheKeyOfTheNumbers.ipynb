{
 "cells": [
  {
   "cell_type": "code",
   "execution_count": null,
   "metadata": {},
   "outputs": [],
   "source": [
    "from typing import *\n",
    "\n",
    "class Solution:\n",
    "    def generateKey(self, num1: int, num2: int, num3: int) -> int:\n",
    "        num1 = (4-len(str(num1)))*'0'+str(num1)\n",
    "        num2 = (4-len(str(num2)))*'0'+str(num2)\n",
    "        num3 = (4-len(str(num3)))*'0'+str(num3)\n",
    "\n",
    "        output = []\n",
    "\n",
    "        for i in range(4):\n",
    "            output.append(min(num1[i], num2[i], num3[i]))\n",
    "\n",
    "        return int(''.join(output))"
   ]
  },
  {
   "cell_type": "markdown",
   "metadata": {},
   "source": [
    "Runtime Beats 45% / Memory beats 35%"
   ]
  }
 ],
 "metadata": {
  "kernelspec": {
   "display_name": "Python 3",
   "language": "python",
   "name": "python3"
  },
  "language_info": {
   "name": "python",
   "version": "3.10.2"
  }
 },
 "nbformat": 4,
 "nbformat_minor": 2
}

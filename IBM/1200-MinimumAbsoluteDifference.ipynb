{
 "cells": [
  {
   "cell_type": "code",
   "execution_count": 4,
   "metadata": {},
   "outputs": [],
   "source": [
    "from typing import *\n",
    "\n",
    "class Solution:\n",
    "    def minimumAbsDifference(self, arr: List[int]) -> List[List[int]]:\n",
    "        ### Method 1 : Runtime Beats 5% / Memory beats 5%\n",
    "        # arr.sort()\n",
    "        # d = {} # dist:[[i0,i1]] \n",
    "        # for i in range(1,len(arr)):\n",
    "        #     distance = arr[i] - arr[i-1]\n",
    "        #     d[distance] = d.get(distance,[]) + [[arr[i-1],arr[i]]]\n",
    "        # return d[min(d)]\n",
    "\n",
    "        ### Method 2\n",
    "        minimum = float('inf')\n",
    "        output = []\n",
    "        arr.sort()\n",
    "        for i in range(1,len(arr)):\n",
    "            distance = arr[i] - arr[i-1]\n",
    "            if distance < minimum:\n",
    "                minimum = distance\n",
    "                output = [[arr[i-1],arr[i]]]\n",
    "            elif distance == minimum:\n",
    "                output += [[arr[i-1],arr[i]]]\n",
    "        return output"
   ]
  },
  {
   "cell_type": "markdown",
   "metadata": {},
   "source": [
    "Runtime Beats 90% / Memory beats 20%"
   ]
  }
 ],
 "metadata": {
  "kernelspec": {
   "display_name": "Python 3",
   "language": "python",
   "name": "python3"
  },
  "language_info": {
   "codemirror_mode": {
    "name": "ipython",
    "version": 3
   },
   "file_extension": ".py",
   "mimetype": "text/x-python",
   "name": "python",
   "nbconvert_exporter": "python",
   "pygments_lexer": "ipython3",
   "version": "3.10.2"
  }
 },
 "nbformat": 4,
 "nbformat_minor": 2
}

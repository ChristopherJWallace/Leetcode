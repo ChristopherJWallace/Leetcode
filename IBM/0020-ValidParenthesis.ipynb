{
 "cells": [
  {
   "cell_type": "code",
   "execution_count": 1,
   "metadata": {},
   "outputs": [],
   "source": [
    "from typing import *\n",
    "\n",
    "class Solution:\n",
    "    def isValid(self, s: str) -> bool:\n",
    "        l = 0\n",
    "        r = 0\n",
    "        length1 = len(s)\n",
    "\n",
    "        pairs = {'{':'}','[':']','(':')'}\n",
    "        stack = []\n",
    "\n",
    "        for i in s:\n",
    "            if i in pairs.keys():\n",
    "                stack.append(i)\n",
    "            elif stack and i == pairs[stack[-1]]:\n",
    "                stack.pop(-1)\n",
    "            else:\n",
    "                return False\n",
    "        \n",
    "        return False if stack else True        "
   ]
  },
  {
   "cell_type": "markdown",
   "metadata": {},
   "source": [
    "Runtime Beats 100% / Memory beats 5%"
   ]
  }
 ],
 "metadata": {
  "kernelspec": {
   "display_name": "Python 3",
   "language": "python",
   "name": "python3"
  },
  "language_info": {
   "codemirror_mode": {
    "name": "ipython",
    "version": 3
   },
   "file_extension": ".py",
   "mimetype": "text/x-python",
   "name": "python",
   "nbconvert_exporter": "python",
   "pygments_lexer": "ipython3",
   "version": "3.10.2"
  }
 },
 "nbformat": 4,
 "nbformat_minor": 2
}

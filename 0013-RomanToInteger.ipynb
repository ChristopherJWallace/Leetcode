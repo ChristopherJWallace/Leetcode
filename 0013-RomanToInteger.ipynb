{
 "cells": [
  {
   "cell_type": "code",
   "execution_count": 14,
   "metadata": {},
   "outputs": [],
   "source": [
    "from typing import *\n",
    "\n",
    "class Solution:\n",
    "    def romanToInt(self, s: str) -> int:\n",
    "      conversions = {\n",
    "        'I':1\n",
    "        ,'IV':4\n",
    "        ,'V':5\n",
    "        ,'IX':9\n",
    "        ,'X':10\n",
    "        ,'XL':40\n",
    "        ,'L':50\n",
    "        ,'XC': 90\n",
    "        ,'C':100\n",
    "        ,'CD':400\n",
    "        ,'D':500\n",
    "        ,'CM': 900\n",
    "        ,'M':1000\n",
    "      }\n",
    "\n",
    "      s = [i for i in s] + ['END']\n",
    "      total = 0\n",
    "\n",
    "      i = 0\n",
    "      while i < (len(s)-1):\n",
    "        if conversions.get(s[i] + s[i+1], 0) == 0:\n",
    "          total += conversions[s[i]]\n",
    "          i += 1\n",
    "        else: \n",
    "          total += conversions[s[i] + s[i+1]]\n",
    "          i += 2\n",
    "        \n",
    "      return total"
   ]
  },
  {
   "cell_type": "markdown",
   "metadata": {},
   "source": [
    "Runtime Beats 80% / Memory beats 10%\n",
    "- could possibly speed up bu"
   ]
  },
  {
   "cell_type": "code",
   "execution_count": 10,
   "metadata": {},
   "outputs": [
    {
     "data": {
      "text/plain": [
       "58"
      ]
     },
     "execution_count": 10,
     "metadata": {},
     "output_type": "execute_result"
    }
   ],
   "source": [
    "Solution().romanToInt(\"LVIII\")"
   ]
  },
  {
   "cell_type": "code",
   "execution_count": 11,
   "metadata": {},
   "outputs": [
    {
     "data": {
      "text/plain": [
       "1994"
      ]
     },
     "execution_count": 11,
     "metadata": {},
     "output_type": "execute_result"
    }
   ],
   "source": [
    "Solution().romanToInt(\"MCMXCIV\")"
   ]
  },
  {
   "cell_type": "code",
   "execution_count": null,
   "metadata": {},
   "outputs": [],
   "source": []
  }
 ],
 "metadata": {
  "kernelspec": {
   "display_name": "Python 3",
   "language": "python",
   "name": "python3"
  },
  "language_info": {
   "codemirror_mode": {
    "name": "ipython",
    "version": 3
   },
   "file_extension": ".py",
   "mimetype": "text/x-python",
   "name": "python",
   "nbconvert_exporter": "python",
   "pygments_lexer": "ipython3",
   "version": "3.10.2"
  }
 },
 "nbformat": 4,
 "nbformat_minor": 2
}

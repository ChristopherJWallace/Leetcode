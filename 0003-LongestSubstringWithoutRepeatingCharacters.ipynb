{
 "cells": [
  {
   "cell_type": "code",
   "execution_count": 1,
   "metadata": {},
   "outputs": [],
   "source": [
    "from typing import *\n",
    "\n",
    "class Solution:\n",
    "    def lengthOfLongestSubstring(self, s: str) -> int:\n",
    "        l = 0\n",
    "        r = 0\n",
    "        longest = 0\n",
    "        length1 = len(s)\n",
    "        if length1 == 0: return 0\n",
    "\n",
    "        while (l<length1):\n",
    "          newString = s[l:r]\n",
    "\n",
    "          # Check substring for unique letter condition. Slide window (increment l) if this occurs.\n",
    "          d = {}\n",
    "          stop = 0\n",
    "          for letter in newString:\n",
    "            if d.get(letter, 0) == 1:\n",
    "              stop = 1\n",
    "              break\n",
    "            else:\n",
    "              d[letter] = 1\n",
    "          if stop == 1:\n",
    "            l+=1\n",
    "            continue\n",
    "          \n",
    "          # Increase window size (increment r) or return result\n",
    "          if r <= length1:\n",
    "            longest = max(len(newString), longest)\n",
    "            r+=1\n",
    "          else:\n",
    "            return longest"
   ]
  },
  {
   "cell_type": "code",
   "execution_count": 2,
   "metadata": {},
   "outputs": [
    {
     "data": {
      "text/plain": [
       "'\\nPossible Improvements:\\n- Improve method for counting values. \\n--- Edit the dictionary so it adds and removes letters based on the window size?\\n--- Retain the index of the first letter duplicate letter so it can jump to one after it. \\n'"
      ]
     },
     "execution_count": 2,
     "metadata": {},
     "output_type": "execute_result"
    }
   ],
   "source": [
    "'''\n",
    "Possible Improvements:\n",
    "- Improve method for counting values. \n",
    "--- Edit the dictionary so it adds and removes letters based on the window size?\n",
    "--- Retain the index of the first letter duplicate letter so it can jump to one after it. \n",
    "'''"
   ]
  },
  {
   "cell_type": "code",
   "execution_count": 3,
   "metadata": {},
   "outputs": [
    {
     "data": {
      "text/plain": [
       "True"
      ]
     },
     "execution_count": 3,
     "metadata": {},
     "output_type": "execute_result"
    }
   ],
   "source": [
    "Solution().lengthOfLongestSubstring('ohomm') == 3"
   ]
  },
  {
   "cell_type": "code",
   "execution_count": 4,
   "metadata": {},
   "outputs": [
    {
     "data": {
      "text/plain": [
       "True"
      ]
     },
     "execution_count": 4,
     "metadata": {},
     "output_type": "execute_result"
    }
   ],
   "source": [
    "Solution().lengthOfLongestSubstring('abcabcbb') == 3"
   ]
  },
  {
   "cell_type": "code",
   "execution_count": 5,
   "metadata": {},
   "outputs": [
    {
     "data": {
      "text/plain": [
       "True"
      ]
     },
     "execution_count": 5,
     "metadata": {},
     "output_type": "execute_result"
    }
   ],
   "source": [
    "Solution().lengthOfLongestSubstring('bbbbb') == 1"
   ]
  },
  {
   "cell_type": "code",
   "execution_count": 6,
   "metadata": {},
   "outputs": [
    {
     "data": {
      "text/plain": [
       "True"
      ]
     },
     "execution_count": 6,
     "metadata": {},
     "output_type": "execute_result"
    }
   ],
   "source": [
    "Solution().lengthOfLongestSubstring('pwwkew') == 3"
   ]
  },
  {
   "cell_type": "code",
   "execution_count": 7,
   "metadata": {},
   "outputs": [
    {
     "data": {
      "text/plain": [
       "True"
      ]
     },
     "execution_count": 7,
     "metadata": {},
     "output_type": "execute_result"
    }
   ],
   "source": [
    "Solution().lengthOfLongestSubstring('') == 0"
   ]
  }
 ],
 "metadata": {
  "kernelspec": {
   "display_name": "Python 3",
   "language": "python",
   "name": "python3"
  },
  "language_info": {
   "codemirror_mode": {
    "name": "ipython",
    "version": 3
   },
   "file_extension": ".py",
   "mimetype": "text/x-python",
   "name": "python",
   "nbconvert_exporter": "python",
   "pygments_lexer": "ipython3",
   "version": "3.10.2"
  }
 },
 "nbformat": 4,
 "nbformat_minor": 2
}

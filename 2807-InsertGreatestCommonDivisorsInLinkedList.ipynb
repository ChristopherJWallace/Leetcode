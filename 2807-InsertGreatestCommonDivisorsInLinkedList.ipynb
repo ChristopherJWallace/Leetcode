{
 "cells": [
  {
   "cell_type": "code",
   "execution_count": 3,
   "metadata": {},
   "outputs": [],
   "source": [
    "from typing import *\n",
    "import math\n",
    "class ListNode:\n",
    "    def __init__(self, val=0, next=None):\n",
    "        self.val = val\n",
    "        self.next = next\n",
    "class Solution:\n",
    "    def insertGreatestCommonDivisors(self, head: Optional[ListNode]) -> Optional[ListNode]:\n",
    "        current = head\n",
    "        while (current and current.next != None):\n",
    "            # Create the new node with the GCD value\n",
    "            gcd_value = math.gcd(current.val, current.next.val)\n",
    "            gcd_node = ListNode(gcd_value)\n",
    "            gcd_node.next = current.next\n",
    "\n",
    "            # Insert the new node to the linked list and iterate to the next node.\n",
    "            current.next = gcd_node\n",
    "            current = current.next.next\n",
    "        return head"
   ]
  },
  {
   "cell_type": "markdown",
   "metadata": {},
   "source": [
    "Runtime Beats 30% / Memory beats 5%"
   ]
  }
 ],
 "metadata": {
  "kernelspec": {
   "display_name": "Python 3",
   "language": "python",
   "name": "python3"
  },
  "language_info": {
   "codemirror_mode": {
    "name": "ipython",
    "version": 3
   },
   "file_extension": ".py",
   "mimetype": "text/x-python",
   "name": "python",
   "nbconvert_exporter": "python",
   "pygments_lexer": "ipython3",
   "version": "3.10.2"
  }
 },
 "nbformat": 4,
 "nbformat_minor": 2
}

{
 "cells": [
  {
   "cell_type": "code",
   "execution_count": 132,
   "metadata": {},
   "outputs": [],
   "source": [
    "from typing import *\n",
    "\n",
    "class ListNode:\n",
    "    def __init__(self, val=0, next=None):\n",
    "        self.val = val\n",
    "        self.next = next\n",
    "\n",
    "class Solution:\n",
    "    def addTwoNumbers(self, l1: ListNode, l2: ListNode) -> ListNode:\n",
    "        Origin = ListNode(0)\n",
    "        PreviousNode = Origin \n",
    "        carryOver = 0\n",
    "\n",
    "        while l1 or l2 or carryOver != 0:\n",
    "            # Check for value in lists.\n",
    "            num1 = l1.val if l1 else 0\n",
    "            num2 = l2.val if l2 else 0\n",
    "\n",
    "            # Calculate sum and determine carryover.\n",
    "            sum = num1 + num2 + carryOver\n",
    "            carryOver = sum // 10\n",
    "\n",
    "            # Add next node.\n",
    "            newNode = ListNode(sum % 10)\n",
    "            PreviousNode.next = newNode\n",
    "            PreviousNode = PreviousNode.next\n",
    "\n",
    "            #C heck if list is longer.\n",
    "            l1 = l1.next if l1 else None\n",
    "            l2 = l2.next if l2 else None\n",
    "\n",
    "        result = Origin.next\n",
    "\n",
    "        return result\n",
    "\n",
    "class Helper:\n",
    "    def create_linked_list(self, numbers:List) -> Optional[ListNode]:\n",
    "        dummy = ListNode()\n",
    "        current = dummy\n",
    "        for num in numbers:\n",
    "            current.next = ListNode(num)\n",
    "            current = current.next\n",
    "        return dummy.next "
   ]
  },
  {
   "cell_type": "markdown",
   "metadata": {},
   "source": [
    "Runtime Beats 50% / Memory beats 5%:\n",
    "- Possibly create a dictionary holding all of the indexes for each values and iterate over those. (i.e. A has index [1,7,9] then check s[1:9] )"
   ]
  },
  {
   "cell_type": "code",
   "execution_count": 135,
   "metadata": {},
   "outputs": [
    {
     "data": {
      "text/plain": [
       "<__main__.ListNode at 0x1ffcc20e6b0>"
      ]
     },
     "execution_count": 135,
     "metadata": {},
     "output_type": "execute_result"
    }
   ],
   "source": [
    "l1 =  Helper().create_linked_list([2,4,3])\n",
    "l2 =  Helper().create_linked_list([5,6,4])\n",
    "\n",
    "Solution().addTwoNumbers(l1,l2)"
   ]
  },
  {
   "cell_type": "code",
   "execution_count": null,
   "metadata": {},
   "outputs": [],
   "source": []
  }
 ],
 "metadata": {
  "kernelspec": {
   "display_name": "Python 3",
   "language": "python",
   "name": "python3"
  },
  "language_info": {
   "codemirror_mode": {
    "name": "ipython",
    "version": 3
   },
   "file_extension": ".py",
   "mimetype": "text/x-python",
   "name": "python",
   "nbconvert_exporter": "python",
   "pygments_lexer": "ipython3",
   "version": "3.10.2"
  }
 },
 "nbformat": 4,
 "nbformat_minor": 2
}

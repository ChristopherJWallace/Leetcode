{
 "cells": [
  {
   "cell_type": "code",
   "execution_count": 1,
   "metadata": {},
   "outputs": [],
   "source": [
    "from typing import *\n",
    "\n",
    "class Solution:\n",
    "    def letterCombinations(self, digits: str) -> List[str]:\n",
    "        if not digits: return []\n",
    "        \n",
    "        d = {\n",
    "            '2': 'abc',\n",
    "            '3': 'def',\n",
    "            '4': 'ghi',\n",
    "            '5': 'jkl',\n",
    "            '6': 'mno',\n",
    "            '7': 'pqrs',\n",
    "            '8': 'tuv',\n",
    "            '9': 'wxyz',\n",
    "        }\n",
    "\n",
    "        def recursion(idx, combo, output = []):\n",
    "            # Adds string to output if it reaches full size\n",
    "            if idx == len(digits):\n",
    "                output.append(combo[:])\n",
    "                return\n",
    "            \n",
    "            # for the inputted combination, add on each possible value and use recursion\n",
    "            for letter in d[digits[idx]]:\n",
    "                recursion(idx + 1, combo + letter)\n",
    "\n",
    "            return output\n",
    "\n",
    "        output = recursion(0, \"\")\n",
    "\n",
    "        return output"
   ]
  },
  {
   "cell_type": "markdown",
   "metadata": {},
   "source": [
    "Runtime Beats 100% / Memory beats 10%"
   ]
  }
 ],
 "metadata": {
  "kernelspec": {
   "display_name": "Python 3",
   "language": "python",
   "name": "python3"
  },
  "language_info": {
   "codemirror_mode": {
    "name": "ipython",
    "version": 3
   },
   "file_extension": ".py",
   "mimetype": "text/x-python",
   "name": "python",
   "nbconvert_exporter": "python",
   "pygments_lexer": "ipython3",
   "version": "3.10.2"
  }
 },
 "nbformat": 4,
 "nbformat_minor": 2
}

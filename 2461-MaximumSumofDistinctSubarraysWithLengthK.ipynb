{
 "cells": [
  {
   "cell_type": "code",
   "execution_count": null,
   "metadata": {},
   "outputs": [],
   "source": [
    "from typing import *\n",
    "\n",
    "class Solution:\n",
    "    def checkDuplicates(self, d:dict) -> int:\n",
    "        for i in d.values():\n",
    "            if i > 1: return 1\n",
    "        return 0\n",
    "\n",
    "    def maximumSubarraySum(self, nums: List[int], k: int) -> int:\n",
    "        length1 = len(nums)\n",
    "        maximum = float('-inf')\n",
    "        summation = 0\n",
    "        d = {}\n",
    "        duplicates = 0\n",
    "        substr = nums[0:k]\n",
    "        print(substr)\n",
    "        for val in substr:\n",
    "            summation += val\n",
    "            d[val] = d.get(val,0) + 1\n",
    "            if d[val] > 1:\n",
    "                duplicates = 1\n",
    "\n",
    "        for i in range(0, length1-k+1):\n",
    "            if i>0:\n",
    "                remove = nums[i-1]\n",
    "                add = nums[i+k-1]\n",
    "\n",
    "                summation -= remove\n",
    "                d[remove] = d.get(remove,0) - 1\n",
    "                if (d[remove] > 0 and duplicates == 1): \n",
    "                    duplicates = Solution().checkDuplicates(d)\n",
    "\n",
    "                summation += add\n",
    "                d[add] = d.get(add,0) + 1\n",
    "                if (d[add] > 1): \n",
    "                    duplicates = 1     \n",
    "\n",
    "            if duplicates == 0:\n",
    "                if summation > maximum: \n",
    "                    maximum = summation\n",
    "\n",
    "        return maximum if maximum != float('-inf') else 0"
   ]
  },
  {
   "cell_type": "markdown",
   "metadata": {},
   "source": [
    "Runtime Beats 25% / Memory beats 45%"
   ]
  }
 ],
 "metadata": {
  "kernelspec": {
   "display_name": "Python 3",
   "language": "python",
   "name": "python3"
  },
  "language_info": {
   "name": "python",
   "version": "3.10.2"
  }
 },
 "nbformat": 4,
 "nbformat_minor": 2
}

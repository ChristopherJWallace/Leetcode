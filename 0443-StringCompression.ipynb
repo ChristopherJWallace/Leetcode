{
 "cells": [
  {
   "cell_type": "code",
   "execution_count": null,
   "metadata": {},
   "outputs": [],
   "source": [
    "from typing import *\n",
    "\n",
    "class Solution:\n",
    "    def compress(self, chars: List[str]) -> int:\n",
    "        lst = []\n",
    "        d = {}\n",
    "        count = 0\n",
    "        for i in range(len(chars)):\n",
    "            if d.get(chars[i], 0) == 0:\n",
    "                if (i > 0 and count>1): lst.append(str(count))\n",
    "                lst.append(chars[i])\n",
    "                d = {}\n",
    "            d[chars[i]] = d.get(chars[i], 0) + 1\n",
    "            count = d[chars[i]]\n",
    "\n",
    "        if count > 1: lst.append(str(count))\n",
    "\n",
    "        output = [i for i in ''.join(lst)]\n",
    "\n",
    "        for i in range(len(output)):\n",
    "            chars[i] = output[i]\n",
    "        while len(chars) != len(output):\n",
    "            chars.pop(-1)\n",
    "\n",
    "        return len(output)"
   ]
  },
  {
   "cell_type": "markdown",
   "metadata": {},
   "source": [
    "Runtime Beats 45% / Memory beats 7%"
   ]
  }
 ],
 "metadata": {
  "kernelspec": {
   "display_name": "Python 3",
   "language": "python",
   "name": "python3"
  },
  "language_info": {
   "name": "python",
   "version": "3.10.2"
  }
 },
 "nbformat": 4,
 "nbformat_minor": 2
}

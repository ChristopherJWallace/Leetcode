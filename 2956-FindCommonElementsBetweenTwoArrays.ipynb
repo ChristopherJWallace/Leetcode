{
 "cells": [
  {
   "cell_type": "code",
   "execution_count": null,
   "metadata": {},
   "outputs": [],
   "source": [
    "from typing import *\n",
    "class Solution:\n",
    "    def findIntersectionValues(self, nums1: List[int], nums2: List[int]) -> List[int]:\n",
    "        d1 = {}\n",
    "        d2 = {}\n",
    "        output = [0,0]\n",
    "        for val in nums1:\n",
    "            d1[val] = d1.get(val, 0) + 1\n",
    "        for val in nums2:\n",
    "            d2[val] = d2.get(val, 0) + 1\n",
    "            if d1.get(val, 0) != 0:\n",
    "                output[1] += 1\n",
    "        for val in nums1:\n",
    "            if d2.get(val, 0) != 0:\n",
    "                output[0] += 1\n",
    "        return output\n"
   ]
  },
  {
   "cell_type": "markdown",
   "metadata": {},
   "source": [
    "Runtime Beats 66% / Memory beats 6%"
   ]
  }
 ],
 "metadata": {
  "kernelspec": {
   "display_name": "Python 3",
   "language": "python",
   "name": "python3"
  },
  "language_info": {
   "name": "python",
   "version": "3.10.2"
  }
 },
 "nbformat": 4,
 "nbformat_minor": 2
}

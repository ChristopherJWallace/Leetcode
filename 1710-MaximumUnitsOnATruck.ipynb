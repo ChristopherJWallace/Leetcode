{
 "cells": [
  {
   "cell_type": "code",
   "execution_count": null,
   "metadata": {},
   "outputs": [],
   "source": [
    "from typing import *\n",
    "\n",
    "class Solution:\n",
    "    def maximumUnits(self, boxTypes: List[List[int]], truckSize: int) -> int:\n",
    "        boxesLeft = truckSize\n",
    "        units = 0\n",
    "        for i in sorted(boxTypes, key = lambda x : x[1], reverse = True):\n",
    "            load = min(i[0], boxesLeft)\n",
    "            boxesLeft -= load\n",
    "            units += load*i[1]\n",
    "            if boxesLeft == 0: break\n",
    "\n",
    "        return units"
   ]
  },
  {
   "cell_type": "markdown",
   "metadata": {},
   "source": [
    "Runtime Beats 90% / Memory beats 10%"
   ]
  }
 ],
 "metadata": {
  "kernelspec": {
   "display_name": "Python 3",
   "language": "python",
   "name": "python3"
  },
  "language_info": {
   "name": "python",
   "version": "3.10.2"
  }
 },
 "nbformat": 4,
 "nbformat_minor": 2
}

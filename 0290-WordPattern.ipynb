{
 "cells": [
  {
   "cell_type": "code",
   "execution_count": 2,
   "metadata": {},
   "outputs": [],
   "source": [
    "from typing import *\n",
    "\n",
    "class Solution:\n",
    "    def wordPattern(self, pattern: str, s: str) -> bool:\n",
    "        d = {}\n",
    "        taken = {}\n",
    "        lst = s.split()\n",
    "        if len(lst) != len(pattern): return False\n",
    "        for i in range(len(pattern)):\n",
    "            if d.get(pattern[i], '') == '':\n",
    "                if taken.get(lst[i], 0) != 0: return False\n",
    "                d[pattern[i]] = lst[i]\n",
    "                taken[lst[i]] = 1\n",
    "            elif d[pattern[i]] != lst[i]:\n",
    "                return False\n",
    "        return True"
   ]
  },
  {
   "cell_type": "markdown",
   "metadata": {},
   "source": [
    "Runtime Beats 100% / Memory beats 25%"
   ]
  }
 ],
 "metadata": {
  "kernelspec": {
   "display_name": "Python 3",
   "language": "python",
   "name": "python3"
  },
  "language_info": {
   "codemirror_mode": {
    "name": "ipython",
    "version": 3
   },
   "file_extension": ".py",
   "mimetype": "text/x-python",
   "name": "python",
   "nbconvert_exporter": "python",
   "pygments_lexer": "ipython3",
   "version": "3.10.2"
  }
 },
 "nbformat": 4,
 "nbformat_minor": 2
}

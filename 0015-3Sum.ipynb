{
 "cells": [
  {
   "cell_type": "code",
   "execution_count": 133,
   "metadata": {},
   "outputs": [],
   "source": [
    "from typing import *\n",
    "\n",
    "class Solution:\n",
    "    def threeSum(self, nums: List[int]) -> List[List[int]]:\n",
    "        output = set()\n",
    "        nums = sorted(nums)\n",
    "        negativeNums = [i for i in nums if i<=0]\n",
    "        positiveNums = [i for i in nums if i>=0]\n",
    "\n",
    "        length1 = len(negativeNums)\n",
    "        length2 = len(positiveNums)\n",
    "        r = len(nums)-1\n",
    "        \n",
    "        for i in range(0, length1):\n",
    "            valI = nums[i]\n",
    "            for j in range(i+1, r+1):\n",
    "                valJ = nums[j]\n",
    "                summation1 = valI + valJ\n",
    "                if summation1 > 0: break\n",
    "                complement = 0 - summation1\n",
    "                try:\n",
    "                    nums[max(j+1, r-length2):].index(complement)\n",
    "                    output.add((valI, valJ, complement))\n",
    "                except: \n",
    "                    continue\n",
    "                    \n",
    "                # for k in range(r, max(r-length2, j), -1):\n",
    "                #     valK = nums[k] \n",
    "                #     if (valK < abs(summation1)): break\n",
    "                #     summation2 = summation1 + valK\n",
    "                #     if summation2 == 0: output.add((valI, valJ, valK))\n",
    "\n",
    "        return [list(triplet) for triplet in output]"
   ]
  },
  {
   "cell_type": "markdown",
   "metadata": {},
   "source": [
    "UNFINISHED"
   ]
  },
  {
   "cell_type": "code",
   "execution_count": 134,
   "metadata": {},
   "outputs": [
    {
     "data": {
      "text/plain": [
       "[[-1, 0, 1], [-1, -1, 2]]"
      ]
     },
     "execution_count": 134,
     "metadata": {},
     "output_type": "execute_result"
    }
   ],
   "source": [
    "Solution().threeSum([-1,0,1,2,-1,-4])"
   ]
  },
  {
   "cell_type": "code",
   "execution_count": 135,
   "metadata": {},
   "outputs": [
    {
     "data": {
      "text/plain": [
       "[[0, 0, 0]]"
      ]
     },
     "execution_count": 135,
     "metadata": {},
     "output_type": "execute_result"
    }
   ],
   "source": [
    "Solution().threeSum([0,0,0,0])"
   ]
  },
  {
   "cell_type": "code",
   "execution_count": 136,
   "metadata": {},
   "outputs": [
    {
     "data": {
      "text/plain": [
       "[[-3, -1, 4],\n",
       " [-1, 0, 1],\n",
       " [-4, 1, 3],\n",
       " [-2, 0, 2],\n",
       " [-1, -1, 2],\n",
       " [-3, 0, 3],\n",
       " [-4, 0, 4],\n",
       " [-2, -1, 3],\n",
       " [-3, 1, 2]]"
      ]
     },
     "execution_count": 136,
     "metadata": {},
     "output_type": "execute_result"
    }
   ],
   "source": [
    "Solution().threeSum([-1,0,1,2,-1,-4,-2,-3,3,0,4])\n"
   ]
  },
  {
   "cell_type": "code",
   "execution_count": null,
   "metadata": {},
   "outputs": [],
   "source": []
  }
 ],
 "metadata": {
  "kernelspec": {
   "display_name": "Python 3",
   "language": "python",
   "name": "python3"
  },
  "language_info": {
   "codemirror_mode": {
    "name": "ipython",
    "version": 3
   },
   "file_extension": ".py",
   "mimetype": "text/x-python",
   "name": "python",
   "nbconvert_exporter": "python",
   "pygments_lexer": "ipython3",
   "version": "3.10.2"
  }
 },
 "nbformat": 4,
 "nbformat_minor": 2
}

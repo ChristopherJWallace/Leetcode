{
 "cells": [
  {
   "cell_type": "code",
   "execution_count": null,
   "metadata": {},
   "outputs": [],
   "source": [
    "from typing import *\n",
    "\n",
    "class Solution:\n",
    "    def maximumNumberOfStringPairs(self, words: List[str]) -> int:\n",
    "        complementString = {} # Complement : 1\n",
    "        count = 0\n",
    "        for word in words:\n",
    "            if complementString.get(word, 0) == 0:\n",
    "                complementString[word[::-1]] = 1\n",
    "            else:\n",
    "                count +=1\n",
    "        return count"
   ]
  },
  {
   "cell_type": "markdown",
   "metadata": {},
   "source": [
    "Runtime Beats 100% / Memory beats 15%"
   ]
  }
 ],
 "metadata": {
  "kernelspec": {
   "display_name": "Python 3",
   "language": "python",
   "name": "python3"
  },
  "language_info": {
   "name": "python",
   "version": "3.10.2"
  }
 },
 "nbformat": 4,
 "nbformat_minor": 2
}

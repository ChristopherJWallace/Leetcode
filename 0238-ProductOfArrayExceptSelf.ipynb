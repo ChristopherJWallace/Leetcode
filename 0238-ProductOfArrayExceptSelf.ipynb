{
 "cells": [
  {
   "cell_type": "code",
   "execution_count": null,
   "metadata": {},
   "outputs": [],
   "source": [
    "from typing import *\n",
    "from math import *\n",
    "\n",
    "class Solution:\n",
    "    def productExceptSelf(self, nums: List[int]) -> List[int]:\n",
    "        from math import prod\n",
    "        product = math.prod(nums)\n",
    "        output = []\n",
    "        for i in range(len(nums)):\n",
    "            val = nums[i]\n",
    "            if val == 0: \n",
    "                output.append(math.prod([nums[j] for j in range(len(nums)) if j!=i]))\n",
    "            else: \n",
    "                output.append(product//val)\n",
    "        return output"
   ]
  },
  {
   "cell_type": "markdown",
   "metadata": {},
   "source": [
    "Runtime Beats 95% / Memory beats 45%"
   ]
  }
 ],
 "metadata": {
  "kernelspec": {
   "display_name": "Python 3",
   "language": "python",
   "name": "python3"
  },
  "language_info": {
   "codemirror_mode": {
    "name": "ipython",
    "version": 3
   },
   "file_extension": ".py",
   "mimetype": "text/x-python",
   "name": "python",
   "nbconvert_exporter": "python",
   "pygments_lexer": "ipython3",
   "version": "3.10.2"
  }
 },
 "nbformat": 4,
 "nbformat_minor": 2
}

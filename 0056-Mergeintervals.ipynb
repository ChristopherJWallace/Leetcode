{
 "cells": [
  {
   "cell_type": "code",
   "execution_count": null,
   "metadata": {},
   "outputs": [],
   "source": [
    "from typing import *\n",
    "\n",
    "class Solution:\n",
    "    def merge(self, intervals: List[List[int]]) -> List[List[int]]:\n",
    "        intervals = sorted(intervals)\n",
    "        saved = [intervals[0]]\n",
    "\n",
    "        for i in range(len(intervals)):\n",
    "            modified = 0\n",
    "            for j in range(len(saved)):\n",
    "                # Handle if time starts between the existing interval\n",
    "                if (intervals[i][0] >= saved[j][0] and intervals[i][0] <= saved[j][1]):\n",
    "                    print('Branch 1: ', intervals[i][0], intervals[i][1])\n",
    "                    saved[j][1] = max(intervals[i][1],saved[j][1])\n",
    "                    modified = 1\n",
    "                # Handle if time ends between the existing interval\n",
    "                if (intervals[i][1] >= saved[j][0] and intervals[i][1] <= saved[j][1]):\n",
    "                    print('Branch 2: ', intervals[i][0], intervals[i][1])\n",
    "                    saved[j][0] = min(intervals[i][0],saved[j][0])\n",
    "                    modified = 1\n",
    "                if modified == 1: break\n",
    "            \n",
    "            if modified == 0: saved.append(intervals[i])\n",
    "        return saved "
   ]
  },
  {
   "cell_type": "markdown",
   "metadata": {},
   "source": [
    "Runtime Beats 6% / Memory beats 20%"
   ]
  }
 ],
 "metadata": {
  "kernelspec": {
   "display_name": "Python 3",
   "language": "python",
   "name": "python3"
  },
  "language_info": {
   "name": "python",
   "version": "3.10.2"
  }
 },
 "nbformat": 4,
 "nbformat_minor": 2
}
